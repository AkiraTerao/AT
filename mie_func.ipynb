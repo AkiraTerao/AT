{
  "nbformat": 4,
  "nbformat_minor": 0,
  "metadata": {
    "colab": {
      "name": "mie_func.ipynb",
      "provenance": [],
      "collapsed_sections": [],
      "authorship_tag": "ABX9TyNSYbiWiUizQdadHbaxPG+F",
      "include_colab_link": true
    },
    "kernelspec": {
      "name": "python3",
      "display_name": "Python 3"
    },
    "language_info": {
      "name": "python"
    }
  },
  "cells": [
    {
      "cell_type": "markdown",
      "metadata": {
        "id": "view-in-github",
        "colab_type": "text"
      },
      "source": [
        "<a href=\"https://colab.research.google.com/github/AkiraTerao/AT/blob/master/mie_func.ipynb\" target=\"_parent\"><img src=\"https://colab.research.google.com/assets/colab-badge.svg\" alt=\"Open In Colab\"/></a>"
      ]
    },
    {
      "cell_type": "code",
      "metadata": {
        "id": "7zlSxFu5jQOT"
      },
      "source": [
        "import numpy as np\n",
        "import matplotlib.pyplot as pyllot\n",
        "%matplotlib inline"
      ],
      "execution_count": 1,
      "outputs": []
    },
    {
      "cell_type": "code",
      "metadata": {
        "colab": {
          "base_uri": "https://localhost:8080/"
        },
        "id": "Ow9-wF6398L2",
        "outputId": "43a359b6-837c-431f-eb04-d83e9b25ecc1"
      },
      "source": [
        "disp=1\n",
        "fv=0.05\n",
        "lam=0.633 # um\n",
        "dia=0.05 # um\n",
        "npar=1.57 \n",
        "nmed=1.33\n",
        "musgp=getMieScatter(lam,dia,fv,npar,nmed,disp)\n",
        "musgp"
      ],
      "execution_count": 20,
      "outputs": [
        {
          "output_type": "stream",
          "name": "stdout",
          "text": [
            "----- choice:\n",
            "lambda =  0.6330 um\n",
            "diameter =  0.0500 um\n",
            "rho =   763.9437 1/um^3\n",
            "npar =  1.570\n",
            "nmed =  1.330\n",
            "----- result:\n",
            "real(m): 1.1804511278195489\n",
            "imag(m): 0.0\n",
            "x:  0.33004093438186616\n",
            "qext:  0.00041530714674885413\n",
            "qsca:  0.000415307146748854\n",
            "qabs:  1.0842021724855044e-19\n",
            "qb:  0.0005946798031936842\n",
            "asy:  0.018706478310797883\n",
            "qratio:  1.4319036112164498\n",
            "----- optical properties:\n",
            "mus =6.2296072012328105 cm^-1 \n",
            "g =  0.018706478310797883\n",
            "musp = 6.1130731892381585cm^-1\n"
          ]
        },
        {
          "output_type": "execute_result",
          "data": {
            "text/plain": [
              "array([6.2296072 , 0.01870648, 6.11307319])"
            ]
          },
          "metadata": {},
          "execution_count": 20
        }
      ]
    },
    {
      "cell_type": "code",
      "metadata": {
        "id": "Ru_5WgH1jXl6"
      },
      "source": [
        "def getMieScatter(lam,dia,fv,npar,nmed,disp):\n",
        "\n",
        "  Vsphere = 4/3*np.pi*(dia/2)**3;     # volume of sphere\n",
        "  rho     = fv/Vsphere;           # #/um^3, concentration of spheres\n",
        "  m = npar/nmed;                  # ratio of refractive indices\n",
        "  x = np.pi*dia/(lam/nmed);       # ratio circumference/wavelength in medium\n",
        "\n",
        "  u=mie(m,x)\n",
        "  qsca = u[4];                    # scattering efficiency, Qsca\n",
        "  g  = u[7];                    # anisotropy, g\n",
        "\n",
        "  A  = np.pi*dia**2/4;          # geometrical cross-sectional area, um^2\n",
        "  sigma_s = qsca*A;               # scattering cross-section, um^2\n",
        "  mus     = sigma_s*rho*1e4;      # scattering coeff. cm^-1\n",
        "  musp    = mus*(1-g);            # reduced scattering coeff. cm^-1\n",
        "  if disp==1:\n",
        "    print('----- choice:')\n",
        "    print(f'lambda = {lam: .4f} um')\n",
        "    print(f'diameter = {dia: .4f} um')\n",
        "    print(f'rho =  {rho: .4f} 1/um^3')\n",
        "    print(f'npar = {npar: .3f}')\n",
        "    print(f'nmed = {nmed: .3f}')\n",
        "    print('----- result:')\n",
        "    print('real(m):' , u[0])\n",
        "    print('imag(m):', u[1])\n",
        "    print('x: ', u[2])\n",
        "    print('qext: ', u[3])\n",
        "    print('qsca: ', u[4])\n",
        "    print('qabs: ', u[5])\n",
        "    print('qb: ', u[6])\n",
        "    print('asy: ', u[7])\n",
        "    print('qratio: ', u[8])\n",
        "    print('----- optical properties:')\n",
        "    print('mus =' +str(mus)+ ' cm^-1 ')\n",
        "    print('g = ',g)\n",
        "    print('musp = ' +str(musp)+ 'cm^-1')\n",
        "  musgp= np.real([mus, g, musp]);\n",
        "  return musgp"
      ],
      "execution_count": 19,
      "outputs": []
    },
    {
      "cell_type": "code",
      "metadata": {
        "id": "Ih-J40ai6wR0"
      },
      "source": [
        "def mie(m,x):\n",
        "  if x==0: # To avoid a singularity at x=0\n",
        "    result=np.array([np.real(m),np.imag(m), 0, 0, 0, 0, 0, 0, 1.5])\n",
        "  elif x>0: # This is the normal situation\n",
        "    nmax=round(2+x+4*x**(1/3));\n",
        "  n1=nmax-1;\n",
        "  n=np.arange(1,nmax+1);cn=2*n+1; c1n=n*(n+2)/(n+1); c2n=cn/n/(n+1);\n",
        "  x2=x*x;\n",
        "  f=mie_abcd(m,x)\n",
        "  anp=np.real(f[0,:]); anpp=np.imag(f[0,:]);\n",
        "  bnp=np.real(f[1,:]); bnpp=np.imag(f[1,:]);\n",
        "  g1=np.zeros([4,nmax]); g1[0,:n1]=anp[1:nmax]; g1[1,:n1]=anpp[1:nmax]; g1[2,:n1]=bnp[1:nmax]; g1[3,:n1]=bnpp[1:nmax]\n",
        "  dn=cn*(anp+bnp);\n",
        "  q=sum(dn);\n",
        "  qext=2*q/x2;\n",
        "  en=cn*(anp*anp+anpp*anpp+bnp*bnp+bnpp*bnpp);\n",
        "  q=sum(en);\n",
        "  qsca=2*q/x2;\n",
        "  qabs=qext-qsca;\n",
        "  fn=(f[0,:]-f[1,:])*cn;\n",
        "  gn=(-1)**n;\n",
        "  f[2,:]=fn*gn;\n",
        "  q=np.sum(f[2,:]);\n",
        "  qb=q*np.conjugate(q)/x2;\n",
        "  asy1=c1n*(anp*g1[0,:]+anpp*g1[1,:]+bnp*g1[2,:]+bnpp*g1[3,:]);\n",
        "  asy2=c2n*(anp*bnp+anpp*bnpp);\n",
        "  asy=4/x2*np.sum(asy1+asy2)/qsca;\n",
        "  qratio=qb/qsca;\n",
        "  result2=np.array([np.real(m), np.imag(m), x, qext, qsca, qabs, qb, asy, qratio]);\n",
        "  result=np.real(result2)\n",
        "  return result"
      ],
      "execution_count": 13,
      "outputs": []
    },
    {
      "cell_type": "code",
      "metadata": {
        "id": "NCkQJ_0T5guF"
      },
      "source": [
        "def mie_abcd(m,x):\n",
        "  from scipy.special import jv, yv\n",
        "  nmax=round(2+x+4*x**(1/3));\n",
        "  n=np.arange(1,nmax+1); nu =(n+0.5); z=m*x; m2=m*m;\n",
        "  sqx= np.sqrt(0.5*np.pi/x); sqz= np.sqrt(0.5*np.pi/z);\n",
        "  bx = jv(nu, x)*sqx\n",
        "  bz = jv(nu, z)*sqz\n",
        "  yx = yv(nu, x)*sqx\n",
        "  hx = bx+1j*yx;\n",
        "  b1x=np.concatenate([[np.sin(x)/x],bx[0:nmax-1]])\n",
        "  b1z=np.concatenate([[np.sin(z)/z],bz[0:nmax-1]])\n",
        "  y1x=np.concatenate([[-np.cos(x)/x],yx[0:nmax-1]])\n",
        "  h1x= b1x+1j*y1x;\n",
        "  ax = x*b1x-n*bx;\n",
        "  az = z*b1z-n*bz;\n",
        "  ahx= x*h1x-n*hx;\n",
        "  an = (m2*bz*ax-bx*az)/(m2*bz*ahx-hx*az);\n",
        "  bn = (bz*ax-bx*az)/(bz*ahx-hx*az);\n",
        "  cnf = (bx*ahx-hx*ax)/(bz*ahx-hx*az);\n",
        "  dn = m*(bx*ahx-hx*ax)/(m2*bz*ahx-hx*az);\n",
        "  result=np.array([an, bn, cnf, dn]);\n",
        "  return result"
      ],
      "execution_count": 6,
      "outputs": []
    },
    {
      "cell_type": "code",
      "metadata": {
        "id": "NMmPs_Sd6cKI"
      },
      "source": [
        ""
      ],
      "execution_count": 20,
      "outputs": []
    }
  ]
}