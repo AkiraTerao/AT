{
  "nbformat": 4,
  "nbformat_minor": 0,
  "metadata": {
    "colab": {
      "name": "mie_scatter.ipynb",
      "provenance": [],
      "collapsed_sections": [],
      "authorship_tag": "ABX9TyOezWXlCSxoZzhPeoo9qfeO",
      "include_colab_link": true
    },
    "kernelspec": {
      "name": "python3",
      "display_name": "Python 3"
    },
    "language_info": {
      "name": "python"
    }
  },
  "cells": [
    {
      "cell_type": "markdown",
      "metadata": {
        "id": "view-in-github",
        "colab_type": "text"
      },
      "source": [
        "<a href=\"https://colab.research.google.com/github/AkiraTerao/AT/blob/master/mie_scatter.ipynb\" target=\"_parent\"><img src=\"https://colab.research.google.com/assets/colab-badge.svg\" alt=\"Open In Colab\"/></a>"
      ]
    },
    {
      "cell_type": "code",
      "metadata": {
        "id": "TH2Vgh9NchYP"
      },
      "source": [
        "import numpy as np\n",
        "import matplotlib.pyplot as pyllot\n",
        "%matplotlib inline"
      ],
      "execution_count": null,
      "outputs": []
    },
    {
      "cell_type": "markdown",
      "metadata": {
        "id": "x61z352zdBkD"
      },
      "source": [
        "function musgp = getMieScatter(lambda, dia, fv, npar,nmed)\n",
        "\n",
        "% function musgp = getMieScatter(lambda, dia, fv)\n",
        "\n",
        "%  fv            = volume fraction of spheres in medium (eg., fv = 0.05)\n",
        "\n",
        "%  lambda        = wavelength in um (eg., lambda = 0.633)\n",
        "\n",
        "%  dia           = sphere diameter in um (eg., dia_um = 0.0500)\n",
        "\n",
        "%  npar          = particle refractive index (eg. polystyrene = 1.57)\n",
        "\n",
        "%  nmed          = medium refractive index (eg., water = 1.33)\n",
        "\n",
        "%                  Note: npar and nmed can be imaginary numbers.\n",
        "\n",
        "%  returns musgp = [mus g musp]  \n",
        "\n",
        "%       mus      = scattering coefficient [cm^-1]\n",
        "\n",
        "%       g        = anisotropy of scattering [dimensionless]\n",
        "\n",
        "%       musp     = reduced scattering coefficient [cm^-1]\n",
        "\n",
        "%  Uses\n",
        "\n",
        "%       Mie.m, which uses mie_abcd.m, from Maetzler 2002"
      ]
    },
    {
      "cell_type": "code",
      "metadata": {
        "id": "iOOfKpG3c5io"
      },
      "source": [
        "fv=0.05\n",
        "lam=0.633 # um\n",
        "dia=0.05 # um\n",
        "npar=1.57 \n",
        "nmed=1.33"
      ],
      "execution_count": null,
      "outputs": []
    },
    {
      "cell_type": "code",
      "metadata": {
        "id": "jQSIde3FeAVt"
      },
      "source": [
        "Vsphere = 4/3*np.pi*(dia/2)**3;     # volume of sphere\n",
        "rho     = fv/Vsphere;           # #/um^3, concentration of spheres\n",
        "m = npar/nmed;                  # ratio of refractive indices\n",
        "x = np.pi*dia/(lam/nmed);       # ratio circumference/wavelength in medium"
      ],
      "execution_count": null,
      "outputs": []
    },
    {
      "cell_type": "code",
      "metadata": {
        "id": "mvgAfxB2eFER"
      },
      "source": [
        "if x==0: # To avoid a singularity at x=0\n",
        "  result=np.array([np.real(m),np.imag(m), 0, 0, 0, 0, 0, 0, 1.5])\n",
        "elif x>0: # This is the normal situation\n",
        "  nmax=round(2+x+4*x**(1/3));"
      ],
      "execution_count": null,
      "outputs": []
    },
    {
      "cell_type": "code",
      "metadata": {
        "id": "WKHIkNg00FXw"
      },
      "source": [
        "n1=nmax-1;\n",
        "n=np.arange(1,nmax+1);cn=2*n+1; c1n=n*(n+2)/(n+1); c2n=cn/n/(n+1);\n",
        "x2=x*x;"
      ],
      "execution_count": null,
      "outputs": []
    },
    {
      "cell_type": "markdown",
      "metadata": {
        "id": "1f-8zJBB1T_G"
      },
      "source": [
        "mie_abcd"
      ]
    },
    {
      "cell_type": "code",
      "metadata": {
        "id": "42yic06YfloV"
      },
      "source": [
        "nmax=round(2+x+4*x**(1/3));\n",
        "n=np.arange(1,nmax+1); nu =(n+0.5); z=m*x; m2=m*m;\n",
        "sqx= np.sqrt(0.5*np.pi/x); sqz= np.sqrt(0.5*np.pi/z);"
      ],
      "execution_count": null,
      "outputs": []
    },
    {
      "cell_type": "code",
      "metadata": {
        "id": "wmlr8p00gHd0"
      },
      "source": [
        "from scipy.special import jv, yv\n",
        "bx = jv(nu, x)*sqx\n",
        "bz = jv(nu, z)*sqz\n",
        "yx = yv(nu, x)*sqx\n",
        "hx = bx+1j*yx;"
      ],
      "execution_count": null,
      "outputs": []
    },
    {
      "cell_type": "code",
      "metadata": {
        "id": "k90yXColzum2"
      },
      "source": [
        "b1x=np.concatenate([[np.sin(x)/x],bx[0:nmax-1]])\n",
        "b1z=np.concatenate([[np.sin(z)/z],bz[0:nmax-1]])\n",
        "y1x=np.concatenate([[-np.cos(x)/x],yx[0:nmax-1]])\n",
        "h1x= b1x+1j*y1x;"
      ],
      "execution_count": null,
      "outputs": []
    },
    {
      "cell_type": "code",
      "metadata": {
        "id": "lKy5KhId3th0"
      },
      "source": [
        "ax = x*b1x-n*bx;\n",
        "az = z*b1z-n*bz;\n",
        "ahx= x*h1x-n*hx;"
      ],
      "execution_count": null,
      "outputs": []
    },
    {
      "cell_type": "code",
      "metadata": {
        "id": "Rjd2Lpqn9-Ww"
      },
      "source": [
        "an = (m2*bz*ax-bx*az)/(m2*bz*ahx-hx*az);\n",
        "bn = (bz*ax-bx*az)/(bz*ahx-hx*az);\n",
        "cnf = (bx*ahx-hx*ax)/(bz*ahx-hx*az);\n",
        "dn = m*(bx*ahx-hx*ax)/(m2*bz*ahx-hx*az);\n",
        "result=np.array([an, bn, cnf, dn]);\n",
        "f=result"
      ],
      "execution_count": null,
      "outputs": []
    },
    {
      "cell_type": "markdown",
      "metadata": {
        "id": "Xwjp9BCLIv8w"
      },
      "source": [
        "end of mie_abcd"
      ]
    },
    {
      "cell_type": "code",
      "metadata": {
        "id": "VI7vw5fN-AJ5"
      },
      "source": [
        "anp=np.real(f[0,:]); anpp=np.imag(f[0,:]);\n",
        "bnp=np.real(f[1,:]); bnpp=np.imag(f[1,:]);"
      ],
      "execution_count": null,
      "outputs": []
    },
    {
      "cell_type": "code",
      "metadata": {
        "id": "FNxSXc8OBZDa"
      },
      "source": [
        "g1=np.zeros([4,nmax]); g1[0,:n1]=anp[1:nmax]; g1[1,:n1]=anpp[1:nmax]; g1[2,:n1]=bnp[1:nmax]; g1[3,:n1]=bnpp[1:nmax]"
      ],
      "execution_count": null,
      "outputs": []
    },
    {
      "cell_type": "code",
      "metadata": {
        "id": "isFpT5QEKWtX"
      },
      "source": [
        "dn=cn*(anp+bnp);\n",
        "q=sum(dn);\n",
        "qext=2*q/x2;\n",
        "en=cn*(anp*anp+anpp*anpp+bnp*bnp+bnpp*bnpp);\n",
        "q=sum(en);\n",
        "qsca=2*q/x2;\n",
        "qabs=qext-qsca;\n",
        "fn=(f[0,:]-f[1,:])*cn;\n",
        "gn=(-1)**n;\n",
        "f[2,:]=fn*gn;\n",
        "q=np.sum(f[2,:]);"
      ],
      "execution_count": null,
      "outputs": []
    },
    {
      "cell_type": "code",
      "metadata": {
        "colab": {
          "base_uri": "https://localhost:8080/"
        },
        "id": "1nnYlDwHgqJ0",
        "outputId": "78bb9188-9413-4a14-f448-e40f011de0cc"
      },
      "source": [
        "fn"
      ],
      "execution_count": null,
      "outputs": [
        {
          "output_type": "execute_result",
          "data": {
            "text/plain": [
              "array([2.26106741e-05-8.13505248e-03j, 1.53375253e-09-8.70456490e-05j,\n",
              "       1.85852459e-14-3.59413064e-07j, 6.70441257e-20-7.74977943e-10j,\n",
              "       9.52359539e-26-1.02183534e-12j])"
            ]
          },
          "metadata": {},
          "execution_count": 53
        }
      ]
    },
    {
      "cell_type": "code",
      "metadata": {
        "id": "hUR9yOLHBozx"
      },
      "source": [
        "qb=q*q/x2;\n",
        "asy1=c1n*(anp*g1[0,:]+anpp*g1[1,:]+bnp*g1[2,:]+bnpp*g1[3,:]);\n",
        "asy2=c2n*(anp*bnp+anpp*bnpp);\n",
        "asy=4/x2*np.sum(asy1+asy2)/qsca;\n",
        "qratio=qb/qsca;\n",
        "result=np.array([np.real(m), np.imag(m), x, qext, qsca, qabs, qb, asy, qratio]);"
      ],
      "execution_count": null,
      "outputs": []
    },
    {
      "cell_type": "code",
      "metadata": {
        "id": "B2PjJWMnnab0"
      },
      "source": [
        "u=result\n",
        "qsca = u[4];                    # scattering efficiency, Qsca\n",
        "g    = u[7];                    # anisotropy, g\n",
        "\n",
        "A       = np.pi*dia**2/4;          # geometrical cross-sectional area, um^2\n",
        "sigma_s = qsca*A;               # scattering cross-section, um^2\n",
        "mus     = sigma_s*rho*1e4;      # scattering coeff. cm^-1\n",
        "musp    = mus*(1-g);            # reduced scattering coeff. cm^-1\n"
      ],
      "execution_count": null,
      "outputs": []
    },
    {
      "cell_type": "code",
      "metadata": {
        "colab": {
          "base_uri": "https://localhost:8080/"
        },
        "id": "8IjPVTn4HPCw",
        "outputId": "f84de39e-0eb7-49f9-f5f5-71d674040c16"
      },
      "source": [
        "print('----- choice:')\n",
        "print(f'lambda = {lam: .4f} um')\n",
        "print(f'diameter = {dia: .4f} um')\n",
        "print(f'rho =  {rho: .4f} 1/um^3')\n",
        "print(f'npar = {npar: .3f}')\n",
        "print(f'nmed = {nmed: .3f}')"
      ],
      "execution_count": null,
      "outputs": [
        {
          "output_type": "stream",
          "name": "stdout",
          "text": [
            "----- choice:\n",
            "lambda =  0.6330 um\n",
            "diameter =  0.0500 um\n",
            "rho =   763.9437 1/um^3\n",
            "npar =  1.570\n",
            "nmed =  1.330\n"
          ]
        }
      ]
    },
    {
      "cell_type": "code",
      "metadata": {
        "colab": {
          "base_uri": "https://localhost:8080/"
        },
        "id": "J5GC5sNwKKpG",
        "outputId": "b56dfed9-a06d-4ebb-b1fb-fa0b47e1daa4"
      },
      "source": [
        " print('----- result:')\n",
        "print('real(m):' , u[0])\n",
        "print('imag(m):', u[1])\n",
        "print('x: ', u[2])\n",
        "print('qext: ', u[3])\n",
        "print('qsca: ', u[4])\n",
        "print('qabs: ', u[5])\n",
        "print('qb: ', u[6])\n",
        "print('asy: ', u[7])\n",
        "print('qratio: ', u[8])\n",
        "print('----- optical properties:')\n",
        "print('mus =' +str(mus)+ ' cm^-1 ')\n",
        "print('g = ',g)\n",
        "print('musp = ' +str(mus)+ 'cm^-1')"
      ],
      "execution_count": null,
      "outputs": [
        {
          "output_type": "stream",
          "name": "stdout",
          "text": [
            "----- result:\n",
            "real(m): (1.1804511278195489+0j)\n",
            "imag(m): 0j\n",
            "x:  (0.33004093438186616+0j)\n",
            "qext:  (0.00041530714674885413+0j)\n",
            "qsca:  (0.000415307146748854+0j)\n",
            "qabs:  (1.0842021724855044e-19+0j)\n",
            "qb:  (-0.0005946704175842089-3.3410741837797736e-06j)\n",
            "asy:  (0.018706478310797883+0j)\n",
            "qratio:  (-1.4318810120159575-0.008044827087457273j)\n",
            "----- optical properties:\n",
            "mus =(6.2296072012328105+0j) cm^-1 \n",
            "g =  (0.018706478310797883+0j)\n",
            "musp = (6.2296072012328105+0j)cm^-1\n"
          ]
        }
      ]
    },
    {
      "cell_type": "code",
      "metadata": {
        "id": "egu0s-kdKQ3N",
        "colab": {
          "base_uri": "https://localhost:8080/"
        },
        "outputId": "da82afb6-3dfb-4ac1-e1db-f0ba662e097e"
      },
      "source": [
        "print(f'lambda = {lam: .4f} um')"
      ],
      "execution_count": null,
      "outputs": [
        {
          "output_type": "stream",
          "name": "stdout",
          "text": [
            "lambda =  0.6330 um\n"
          ]
        }
      ]
    },
    {
      "cell_type": "code",
      "metadata": {
        "id": "-qZFqgsd2Xyq"
      },
      "source": [
        ""
      ],
      "execution_count": null,
      "outputs": []
    },
    {
      "cell_type": "markdown",
      "metadata": {
        "id": "PtLR7BL3H343"
      },
      "source": [
        "----- result:\n",
        "real(m): (1.1804511278195489+0j)\n",
        "\n",
        "imag(m): 0j\n",
        "\n",
        "x:  (0.33004093438186616+0j)\n",
        "\n",
        "qext:  (0.00041530714674885413+0j)\n",
        "\n",
        "qsca:  (0.000415307146748854+0j)\n",
        "\n",
        "qabs:  (1.0842021724855044e-19+0j)\n",
        "\n",
        "qb:  (-0.0005946704175842089-3.3410741837797736e-06j)\n",
        "\n",
        "asy:  (0.018706478310797883+0j)\n",
        "\n",
        "qratio:  (-1.4318810120159575-0.008044827087457273j)\n",
        "\n",
        "----- optical properties:\n",
        "\n",
        "mus =(6.2296072012328105+0j) cm^-1 \n",
        "\n",
        "g =  (0.018706478310797883+0j)\n",
        "\n",
        "musp = (6.2296072012328105+0j)cm^-1\n"
      ]
    },
    {
      "cell_type": "code",
      "metadata": {
        "id": "4rTsMlyeH4sw"
      },
      "source": [
        ""
      ],
      "execution_count": null,
      "outputs": []
    }
  ]
}