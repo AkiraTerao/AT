{
  "nbformat": 4,
  "nbformat_minor": 0,
  "metadata": {
    "colab": {
      "name": "mie_scatter.ipynb",
      "provenance": [],
      "collapsed_sections": [],
      "authorship_tag": "ABX9TyOdF0i9LF9m6Q9vH7gyJzGv",
      "include_colab_link": true
    },
    "kernelspec": {
      "name": "python3",
      "display_name": "Python 3"
    },
    "language_info": {
      "name": "python"
    }
  },
  "cells": [
    {
      "cell_type": "markdown",
      "metadata": {
        "id": "view-in-github",
        "colab_type": "text"
      },
      "source": [
        "<a href=\"https://colab.research.google.com/github/AkiraTerao/AT/blob/master/mie_scatter.ipynb\" target=\"_parent\"><img src=\"https://colab.research.google.com/assets/colab-badge.svg\" alt=\"Open In Colab\"/></a>"
      ]
    },
    {
      "cell_type": "code",
      "metadata": {
        "id": "TH2Vgh9NchYP"
      },
      "source": [
        "import numpy as np\n",
        "import matplotlib.pyplot as pyllot\n",
        "%matplotlib inline"
      ],
      "execution_count": 1,
      "outputs": []
    },
    {
      "cell_type": "markdown",
      "metadata": {
        "id": "x61z352zdBkD"
      },
      "source": [
        "function musgp = getMieScatter(lambda, dia, fv, npar,nmed)\n",
        "\n",
        "% function musgp = getMieScatter(lambda, dia, fv)\n",
        "\n",
        "%  fv            = volume fraction of spheres in medium (eg., fv = 0.05)\n",
        "\n",
        "%  lambda        = wavelength in um (eg., lambda = 0.633)\n",
        "\n",
        "%  dia           = sphere diameter in um (eg., dia_um = 0.0500)\n",
        "\n",
        "%  npar          = particle refractive index (eg. polystyrene = 1.57)\n",
        "\n",
        "%  nmed          = medium refractive index (eg., water = 1.33)\n",
        "\n",
        "%                  Note: npar and nmed can be imaginary numbers.\n",
        "\n",
        "%  returns musgp = [mus g musp]  \n",
        "\n",
        "%       mus      = scattering coefficient [cm^-1]\n",
        "\n",
        "%       g        = anisotropy of scattering [dimensionless]\n",
        "\n",
        "%       musp     = reduced scattering coefficient [cm^-1]\n",
        "\n",
        "%  Uses\n",
        "\n",
        "%       Mie.m, which uses mie_abcd.m, from Maetzler 2002"
      ]
    },
    {
      "cell_type": "code",
      "metadata": {
        "id": "iOOfKpG3c5io"
      },
      "source": [
        "fv=0.05\n",
        "lam=0.633 # um\n",
        "dia=0.05 # um\n",
        "npar=1.57 \n",
        "nmed=1.33"
      ],
      "execution_count": 2,
      "outputs": []
    },
    {
      "cell_type": "code",
      "metadata": {
        "id": "jQSIde3FeAVt"
      },
      "source": [
        "Vsphere = 4/3*np.pi*(dia/2)**3;     # volume of sphere\n",
        "rho     = fv/Vsphere;           # #/um^3, concentration of spheres\n",
        "m = npar/nmed;                  # ratio of refractive indices\n",
        "x = np.pi*dia/(lam/nmed);       # ratio circumference/wavelength in medium"
      ],
      "execution_count": 3,
      "outputs": []
    },
    {
      "cell_type": "code",
      "metadata": {
        "id": "mvgAfxB2eFER"
      },
      "source": [
        "if x==0: # To avoid a singularity at x=0\n",
        "  result=np.array([np.real(m),np.imag(m), 0, 0, 0, 0, 0, 0, 1.5])\n",
        "elif x>0: # This is the normal situation\n",
        "  nmax=round(2+x+4*x**(1/3));"
      ],
      "execution_count": 4,
      "outputs": []
    },
    {
      "cell_type": "code",
      "metadata": {
        "id": "WKHIkNg00FXw"
      },
      "source": [
        "n1=nmax-1;\n",
        "n=np.arange(1,nmax+1);cn=2*n+1; c1n=n*(n+2)/(n+1); c2n=cn/n/(n+1);\n",
        "x2=x*x;"
      ],
      "execution_count": 5,
      "outputs": []
    },
    {
      "cell_type": "markdown",
      "metadata": {
        "id": "1f-8zJBB1T_G"
      },
      "source": [
        "mie_abcd"
      ]
    },
    {
      "cell_type": "code",
      "metadata": {
        "id": "42yic06YfloV"
      },
      "source": [
        "nmax=round(2+x+4*x**(1/3));\n",
        "n=np.arange(1,nmax+1); nu =(n+0.5); z=m*x; m2=m*m;\n",
        "sqx= np.sqrt(0.5*np.pi/x); sqz= np.sqrt(0.5*np.pi/z);"
      ],
      "execution_count": 6,
      "outputs": []
    },
    {
      "cell_type": "code",
      "metadata": {
        "id": "wmlr8p00gHd0"
      },
      "source": [
        "from scipy.special import jv, yv\n",
        "bx = jv(nu, x)*sqx\n",
        "bz = jv(nu, z)*sqz\n",
        "yx = yv(nu, x)*sqx\n",
        "hx = bx+1j*yx;"
      ],
      "execution_count": 7,
      "outputs": []
    },
    {
      "cell_type": "code",
      "metadata": {
        "id": "k90yXColzum2"
      },
      "source": [
        "b1x=np.concatenate([[np.sin(x)/x],bx[0:nmax-1]])\n",
        "b1z=np.concatenate([[np.sin(z)/z],bz[0:nmax-1]])\n",
        "y1x=np.concatenate([[-np.cos(x)/x],yx[0:nmax-1]])\n",
        "h1x= b1x+1j*y1x;"
      ],
      "execution_count": 8,
      "outputs": []
    },
    {
      "cell_type": "code",
      "metadata": {
        "id": "lKy5KhId3th0"
      },
      "source": [
        "ax = x*b1x-n*bx;\n",
        "az = z*b1z-n*bz;\n",
        "ahx= x*h1x-n*hx;"
      ],
      "execution_count": 9,
      "outputs": []
    },
    {
      "cell_type": "code",
      "metadata": {
        "id": "Rjd2Lpqn9-Ww"
      },
      "source": [
        "an = (m2*bz*ax-bx*az)/(m2*bz*ahx-hx*az);\n",
        "bn = (bz*ax-bx*az)/(bz*ahx-hx*az);\n",
        "cn = (bx*ahx-hx*ax)/(bz*ahx-hx*az);\n",
        "dn = m*(bx*ahx-hx*ax)/(m2*bz*ahx-hx*az);\n",
        "result=np.array([an, bn, cn, dn]);\n",
        "f=result"
      ],
      "execution_count": 13,
      "outputs": []
    },
    {
      "cell_type": "markdown",
      "metadata": {
        "id": "Xwjp9BCLIv8w"
      },
      "source": [
        "end of mie_abcd"
      ]
    },
    {
      "cell_type": "code",
      "metadata": {
        "id": "VI7vw5fN-AJ5"
      },
      "source": [
        "anp=np.real(f[0,:]); anpp=np.imag(f[0,:]);\n",
        "bnp=np.real(f[1,:]); bnpp=np.imag(f[1,:]);"
      ],
      "execution_count": 14,
      "outputs": []
    },
    {
      "cell_type": "code",
      "metadata": {
        "id": "6LAHIGnAwMxM"
      },
      "source": [
        "g1[0,:n1]=anp[1:nmax];"
      ],
      "execution_count": 20,
      "outputs": []
    },
    {
      "cell_type": "code",
      "metadata": {
        "id": "FNxSXc8OBZDa"
      },
      "source": [
        "g1=np.zeros([4,nmax]); g1[0,:n1]=anp[1:nmax]; g1[1,:n1]=anpp[1:nmax]; g1[2,:n1]=bnp[1:nmax]; g1[3,:n1]=bnpp[1:nmax]"
      ],
      "execution_count": 21,
      "outputs": []
    },
    {
      "cell_type": "code",
      "metadata": {
        "colab": {
          "base_uri": "https://localhost:8080/"
        },
        "id": "isFpT5QEKWtX",
        "outputId": "96877428-9977-44f4-f24c-3715e776ab5f"
      },
      "source": [
        "dn=cn*(anp+bnp);\n",
        "q=sum(dn);\n",
        "qext=2*q/x2;\n",
        "en=cn*(anp*anp+anpp*anpp+bnp*bnp+bnpp*bnpp);\n",
        "q=sum(en);\n",
        "qsca=2*q/x2;\n",
        "qabs=qext-qsca;\n",
        "fn=(f[0,:]-f[1,:])*cn;\n",
        "gn=(-1)**n;\n",
        "f[2,:]=fn*gn;\n",
        "q=np.sum(f[2,:]);"
      ],
      "execution_count": 22,
      "outputs": [
        {
          "output_type": "execute_result",
          "data": {
            "text/plain": [
              "(-5.296789323131095e-06-2.9963865058671924e-08j)"
            ]
          },
          "metadata": {},
          "execution_count": 22
        }
      ]
    },
    {
      "cell_type": "code",
      "metadata": {
        "id": "hUR9yOLHBozx"
      },
      "source": [
        "qb=q*q/x2;\n",
        "asy1=c1n*(anp*g1[0,:]+anpp*g1[1,:]+bnp*g1[2,:]+bnpp*g1[3,:]);\n",
        "asy2=c2n*(anp*bnp+anpp*bnpp);\n",
        "asy=4/x2*np.sum(asy1+asy2)/qsca;\n",
        "qratio=qb/qsca;\n",
        "result=np.array([np.real(m), np.imag(m), x, qext, qsca, qabs, qb, asy, qratio]);"
      ],
      "execution_count": 23,
      "outputs": []
    },
    {
      "cell_type": "code",
      "metadata": {
        "id": "B2PjJWMnnab0"
      },
      "source": [
        "u=result\n",
        "qsca = u[4];                    # scattering efficiency, Qsca\n",
        "g    = u[7];                    # anisotropy, g\n",
        "\n",
        "A       = np.pi*dia**2/4;          # geometrical cross-sectional area, um^2\n",
        "sigma_s = qsca*A;               # scattering cross-section, um^2\n",
        "mus     = sigma_s*rho*1e4;      # scattering coeff. cm^-1\n",
        "musp    = mus*(1-g);            # reduced scattering coeff. cm^-1\n"
      ],
      "execution_count": 25,
      "outputs": []
    },
    {
      "cell_type": "code",
      "metadata": {
        "colab": {
          "base_uri": "https://localhost:8080/"
        },
        "id": "8IjPVTn4HPCw",
        "outputId": "110f8cd3-53ae-4384-f73c-b0c73f8f5779"
      },
      "source": [
        "print('----- choice:')\n",
        "print(f'lambda = {lam: .4f} um')\n",
        "print(f'diameter = {dia: .4f} um')\n",
        "print(f'rho =  {rho: .4f} 1/um^3')\n",
        "print(f'npar = {npar: .3f}')\n",
        "print(f'nmed = {nmed: .3f}')"
      ],
      "execution_count": 33,
      "outputs": [
        {
          "output_type": "stream",
          "name": "stdout",
          "text": [
            "----- choice:\n",
            "lambda =  0.6330 um\n",
            "diameter =  0.0500 um\n",
            "rho =   763.9437 1/um^3\n",
            "npar =  1.570\n",
            "nmed =  1.330\n"
          ]
        }
      ]
    },
    {
      "cell_type": "code",
      "metadata": {
        "colab": {
          "base_uri": "https://localhost:8080/"
        },
        "id": "J5GC5sNwKKpG",
        "outputId": "ff01d29a-bf2a-4fe1-dbbe-4dc1087185b6"
      },
      "source": [
        "number = 0.45\n",
        "print('{0:.4f} is {0:.2%}'.format(number))\n",
        "# 0.4500 is 45.00%\n",
        "\n",
        "print('{number:.4f} is {number:.2%}')"
      ],
      "execution_count": 29,
      "outputs": [
        {
          "output_type": "stream",
          "name": "stdout",
          "text": [
            "0.4500 is 45.00%\n",
            "{number:.4f} is {number:.2%}\n"
          ]
        }
      ]
    },
    {
      "cell_type": "code",
      "metadata": {
        "id": "egu0s-kdKQ3N",
        "colab": {
          "base_uri": "https://localhost:8080/"
        },
        "outputId": "01c0aa4e-bbd6-4f83-9428-6d58c64d6c5e"
      },
      "source": [
        "print(f'lambda = {lam: .4f} um')"
      ],
      "execution_count": 30,
      "outputs": [
        {
          "output_type": "stream",
          "name": "stdout",
          "text": [
            "lambda =  0.6330 um\n"
          ]
        }
      ]
    },
    {
      "cell_type": "code",
      "metadata": {
        "id": "-qZFqgsd2Xyq"
      },
      "source": [
        ""
      ],
      "execution_count": null,
      "outputs": []
    }
  ]
}